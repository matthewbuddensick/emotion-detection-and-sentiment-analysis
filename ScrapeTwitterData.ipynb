{
 "cells": [
  {
   "cell_type": "markdown",
   "id": "540bb5d0-bbae-4cae-861d-4166bbff691c",
   "metadata": {},
   "source": [
    "# Scraping Tweets on Twitter"
   ]
  },
  {
   "cell_type": "code",
   "execution_count": 1,
   "id": "33459941-d943-493e-ae3c-912ffadd7ad5",
   "metadata": {},
   "outputs": [],
   "source": [
    "import pandas as pd\n",
    "import tweepy\n",
    "from tweepy import OAuthHandler\n",
    "import json\n",
    "import datetime as dt\n",
    "import time\n",
    "import os\n",
    "import sys\n",
    "import getpass"
   ]
  },
  {
   "cell_type": "code",
   "execution_count": 2,
   "id": "4162e413-dd4f-464e-9085-8c8928f00c85",
   "metadata": {},
   "outputs": [
    {
     "name": "stdin",
     "output_type": "stream",
     "text": [
      "Password ::  ·························\n",
      "Password ::  ··················································\n",
      "Password ::  ··················································\n",
      "Password ::  ·············································\n"
     ]
    }
   ],
   "source": [
    "consumer_key = getpass.getpass('Password :: ')\n",
    "consumer_secret = getpass.getpass('Password :: ')\n",
    "access_token = getpass.getpass('Password :: ')\n",
    "access_token_secret = getpass.getpass('Password :: ')\n",
    "auth = tweepy.OAuthHandler(consumer_key, consumer_secret)\n",
    "auth.set_access_token(access_token, access_token_secret)\n",
    "api = tweepy.API(auth,wait_on_rate_limit=True, retry_delay=5, retry_count =3)"
   ]
  },
  {
   "cell_type": "code",
   "execution_count": 3,
   "id": "7c44764e-854d-4f38-9efc-bc6a42290f4d",
   "metadata": {},
   "outputs": [
    {
     "name": "stderr",
     "output_type": "stream",
     "text": [
      "Rate limit reached. Sleeping for: 840\n"
     ]
    },
    {
     "data": {
      "text/html": [
       "<div>\n",
       "<style scoped>\n",
       "    .dataframe tbody tr th:only-of-type {\n",
       "        vertical-align: middle;\n",
       "    }\n",
       "\n",
       "    .dataframe tbody tr th {\n",
       "        vertical-align: top;\n",
       "    }\n",
       "\n",
       "    .dataframe thead th {\n",
       "        text-align: right;\n",
       "    }\n",
       "</style>\n",
       "<table border=\"1\" class=\"dataframe\">\n",
       "  <thead>\n",
       "    <tr style=\"text-align: right;\">\n",
       "      <th></th>\n",
       "      <th>tweet_created</th>\n",
       "      <th>tweet_id</th>\n",
       "      <th>tweet_content</th>\n",
       "    </tr>\n",
       "  </thead>\n",
       "  <tbody>\n",
       "    <tr>\n",
       "      <th>0</th>\n",
       "      <td>2022-05-25 20:34:10+00:00</td>\n",
       "      <td>1529561486422589440</td>\n",
       "      <td>@JoeMyGod Yes, given the way this country and ...</td>\n",
       "    </tr>\n",
       "    <tr>\n",
       "      <th>1</th>\n",
       "      <td>2022-05-25 20:34:09+00:00</td>\n",
       "      <td>1529561482408493056</td>\n",
       "      <td>@MrsRobPope @davidhogg111 You had a super majo...</td>\n",
       "    </tr>\n",
       "    <tr>\n",
       "      <th>2</th>\n",
       "      <td>2022-05-25 20:34:09+00:00</td>\n",
       "      <td>1529561482131906562</td>\n",
       "      <td>@CNYCentral Some in Congress will and the rest...</td>\n",
       "    </tr>\n",
       "    <tr>\n",
       "      <th>3</th>\n",
       "      <td>2022-05-25 20:34:06+00:00</td>\n",
       "      <td>1529561467338604552</td>\n",
       "      <td>In other words, only a very vocal minority of ...</td>\n",
       "    </tr>\n",
       "    <tr>\n",
       "      <th>4</th>\n",
       "      <td>2022-05-25 20:34:05+00:00</td>\n",
       "      <td>1529561464972910594</td>\n",
       "      <td>The House will vote on a so-called red flag gu...</td>\n",
       "    </tr>\n",
       "  </tbody>\n",
       "</table>\n",
       "</div>"
      ],
      "text/plain": [
       "              tweet_created             tweet_id  \\\n",
       "0 2022-05-25 20:34:10+00:00  1529561486422589440   \n",
       "1 2022-05-25 20:34:09+00:00  1529561482408493056   \n",
       "2 2022-05-25 20:34:09+00:00  1529561482131906562   \n",
       "3 2022-05-25 20:34:06+00:00  1529561467338604552   \n",
       "4 2022-05-25 20:34:05+00:00  1529561464972910594   \n",
       "\n",
       "                                       tweet_content  \n",
       "0  @JoeMyGod Yes, given the way this country and ...  \n",
       "1  @MrsRobPope @davidhogg111 You had a super majo...  \n",
       "2  @CNYCentral Some in Congress will and the rest...  \n",
       "3  In other words, only a very vocal minority of ...  \n",
       "4  The House will vote on a so-called red flag gu...  "
      ]
     },
     "metadata": {},
     "output_type": "display_data"
    }
   ],
   "source": [
    "tweets = tweepy.Cursor(api.search_tweets, q=\"congress -filter:retweets\").items(5000)\n",
    "tweets_list = [[tweet.created_at, tweet.id, tweet.text] for tweet in tweets]\n",
    "tweets_df = pd.DataFrame(tweets_list).rename(columns={0:\"tweet_created\", 1:\"tweet_id\", 2:\"tweet_content\"})\n",
    "display(tweets_df.head())"
   ]
  },
  {
   "cell_type": "code",
   "execution_count": 4,
   "id": "8fa121d5-b697-4512-8a57-d899343a903a",
   "metadata": {},
   "outputs": [
    {
     "data": {
      "text/plain": [
       "(5000, 3)"
      ]
     },
     "execution_count": 4,
     "metadata": {},
     "output_type": "execute_result"
    }
   ],
   "source": [
    "tweets_df.shape"
   ]
  },
  {
   "cell_type": "code",
   "execution_count": 5,
   "id": "01a855c2-3a59-47a1-9295-d7b79f652da0",
   "metadata": {},
   "outputs": [],
   "source": [
    "tweets_df.to_csv(\"tweets_including_congress.csv\", index=False)"
   ]
  },
  {
   "cell_type": "code",
   "execution_count": null,
   "id": "984d531a-4981-49ac-a39a-fd75949cdf3d",
   "metadata": {},
   "outputs": [],
   "source": []
  }
 ],
 "metadata": {
  "kernelspec": {
   "display_name": "Python 3 (ipykernel)",
   "language": "python",
   "name": "python3"
  },
  "language_info": {
   "codemirror_mode": {
    "name": "ipython",
    "version": 3
   },
   "file_extension": ".py",
   "mimetype": "text/x-python",
   "name": "python",
   "nbconvert_exporter": "python",
   "pygments_lexer": "ipython3",
   "version": "3.8.12"
  }
 },
 "nbformat": 4,
 "nbformat_minor": 5
}
